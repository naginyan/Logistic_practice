{
  "cells": [
    {
      "cell_type": "markdown",
      "metadata": {
        "id": "view-in-github",
        "colab_type": "text"
      },
      "source": [
        "<a href=\"https://colab.research.google.com/github/naginyan/Logistic_practice/blob/Sokey_Re/0629_Logistic_Regression.ipynb\" target=\"_parent\"><img src=\"https://colab.research.google.com/assets/colab-badge.svg\" alt=\"Open In Colab\"/></a>"
      ]
    },
    {
      "cell_type": "raw",
      "metadata": {
        "id": "GTYq-Je_aonO"
      },
      "source": [
        "ロジスティック回帰"
      ]
    },
    {
      "cell_type": "markdown",
      "metadata": {
        "id": "OwVG5PFbaonR"
      },
      "source": [
        "いまでやってきた回帰分析は\n",
        "* 線形回帰\n",
        "* Link関数を用いた非線形回帰\n",
        "* 多項式フィッティング(重回帰分析)\n",
        "と，どれも$y=f(x)$の関係式に対して$y \\in \\mathbb{R}^{d}$であった．\n",
        "    -> 目的変数が量的データである．(連続値，実値データなど)\n",
        "    "
      ]
    },
    {
      "cell_type": "markdown",
      "metadata": {
        "id": "XGsblXSaaonS"
      },
      "source": [
        "ロジスティック回帰は$y \\in \\{ 0, 1\\}$ が質的データ（カテゴリデータなど）であるものに対して行うもの．\n",
        "\n",
        "意味的解釈として，分類問題でも，回帰問題でもどちらを扱うことも出来るのが特徴．\n",
        "\n",
        "* 回帰問題として考える場合\n",
        "    * 説明変数$x \\in \\mathbb{R}$に対して，目的変数$y \\in \\{ 0,1 \\}$を取る確率として回帰できる．\n",
        "    * 回帰係数の決定をもって分析したことになる．\n",
        "* 分類問題として考える場合\n",
        "    * 説明変数$x \\in \\mathbb{R}$に対して，目的変数$y \\in \\{ 0,1 \\}$が$0,1$のどちらかの値を返すもの．\n",
        "    * 回帰曲線に$x^*$を代入したときに，得られる$1$を取る確率に対して，\n",
        "    $\\alpha \\in (0,1)$を分類境界としてそれ以上であるならば$1$を，そうでないときは$0$を返して分析したことになる．"
      ]
    },
    {
      "cell_type": "markdown",
      "metadata": {
        "id": "s9Uego2CaonT"
      },
      "source": [
        "\n",
        "<img src=\"data01.png\">"
      ]
    },
    {
      "cell_type": "markdown",
      "metadata": {
        "id": "M_z6L_2JaonU"
      },
      "source": [
        "データセットは入力値$x \\in \\mathbb{R}$とラベル$y \\in \\{0,1 \\}$がセット．\n",
        "横軸が入力値，縦軸がラベル値である．\n",
        "\n",
        "ここでは分かりやすいようにラベルが1のデータは〇，ラベルが0のデータは×として表示している．\n",
        "\n",
        "* [課題1] Logistic_data01.csvからこの画像を生成してみること．"
      ]
    },
    {
      "cell_type": "markdown",
      "metadata": {
        "id": "rwmXP-wfaonU"
      },
      "source": [
        "このデータに合うように連続な線を引くことを考えたい．  \n",
        "しかし，回帰問題で考えるならば，これまでの考え方に使うと$y$は連続値データであって欲しい．\n",
        "\n",
        "ここで，$y$は$2$値であるから，入力$x$に対して，$y$は確率変数$Y \\in \\{ 0,1 \\}$の実現値であると考えると，\n",
        "$$\\mathbb{P}(Y = 1 \\,|\\, x) = \\mu, \\,\\,\\, \\mathbb{P}(Y = 0 \\,|\\, x) = 1-\\mu $$\n",
        "が定義できる．  \n",
        "すなわち，$Y$ ~ Bern($\\mu$)であり，その密度関数は\n",
        "$$ p(y \\,|\\, \\mu) = \\mu^{y} (1-\\mu)^{1-y} $$\n",
        "として表せる．\n",
        "\n",
        "よって，回帰によって得られる値をラベルが$1$である確率((0,1)の連続データ)として問題に置き換え，\n",
        "ラベルが1であるデータセットに対しては回帰曲線から得られる値は$1$に近いものであれば適切であると考える．\n",
        "\n",
        "このとき，$p(y\\,|\\,\\mu)$を変形することで，\n",
        "$$p(y\\,|\\,\\mu) = e^{y\\log(\\frac{\\mu}{1-\\mu}) + \\log(1-\\mu)}$$\n",
        "が得られる．\n",
        "ここで，$$\\theta = \\log(\\frac{\\mu}{1-\\mu})$$\n",
        "と置くと，\n",
        "* $ \\mu = \\cfrac{e^{\\theta}}{1+e^{\\theta}} $\n",
        "* $ 1-\\mu = \\cfrac{1}{1+e^{\\theta}} $\n",
        "\n",
        "が得られる．\n",
        "* $\\mu \\rightarrow 0 \\rightarrow \\theta \\rightarrow -\\infty$ \n",
        "* $\\mu \\rightarrow 1 \\rightarrow \\theta \\rightarrow +\\infty$ \n",
        "となるので，\n",
        "$$ \\theta \\in \\mathbb{R} \\leftrightarrow \\mu \\in (0,1) $$\n",
        "の対応関係を得る．\n",
        "\n",
        "このもとで，\n",
        "* $ \\theta \\mapsto w_0 + w_1x \\,\\,\\, , w_0,w_1 \\in \\mathbb{R}$\n",
        "と置き換えると，\n",
        "* $ \\mu = \\mathbb{P}(Y = 1 \\,|\\, x)$\n",
        "* $  1-\\mu = \\mathbb{P}(Y = 0 \\,|\\, x) $\n",
        "に対して，\n",
        "\n",
        "* $ \\mathbb{P}(Y = 1 \\,|\\, x) = \\cfrac{e^{w_0 + w_1x}}{1+e^{w_0 + w_1x}} $ \n",
        "* $ \\mathbb{P}(Y = 0 \\,|\\, x) = \\cfrac{1}{1+e^{w_0 + w_1x}} $\n",
        "\n",
        "を得る．\n"
      ]
    },
    {
      "cell_type": "markdown",
      "metadata": {
        "id": "tD3_oEHvaonV"
      },
      "source": [
        "ここで，(4)の$\\theta$の置き方であるが，これは入力$x \\in \\mathbb{R}$に対して$Y$の確率比に$\\log$を取った値が  \n",
        "線形であらわせるという仮定の下で表現できるモデルである．  \n",
        "(以前から使っている単語で置き直すならば，$z = \\cfrac{\\mu}{1-\\mu}$ と置いたときに，$g(s) = \\log(s)$に対して，\n",
        "$$ g(z \\, ; \\, x) = w_0 + w_1x $$\n",
        "が成り立つということであり，この$g$はLink関数であった．\n",
        "\n",
        "特に，$\\cfrac{\\mu}{1-\\mu}$のことをオッズ比と表現することがある．なお，入力$x$に対してこのオッズ比をそれぞれ求めることは一般に困難であるため，あくまでこの仮定はデータセットの形状よりその仮定が適切であるかを判断することになる．\n",
        "（と私は思っている...）\n",
        "\n",
        "* [課題2] この線形仮定が適応できるようなデータセットとはどのような関係が認められるときであるか，考えよ．\n",
        "\n",
        "これ以降は，$\\theta$は(4)の置き方を用いて考える．"
      ]
    },
    {
      "cell_type": "markdown",
      "metadata": {
        "id": "EWRSc6deaonV"
      },
      "source": [
        "実は，$ \\mathbb{P}(Y = 0 \\,|\\, x) = \\cfrac{1}{1+e^{w_0 + w_1x}} $で定義されている右辺の関数は\n",
        "Sigmoid関数である．  \n",
        "ちなみにほんとのSigmoid関数は\n",
        "$$ f(x) = \\cfrac{1}{1+e^{-x}} $$ \n",
        "である．\n",
        "Sigmoid関数は$ \\mathbb{R} \\rightarrow (0,1) $の変換として使えることも頭に入れておくとよい．（いわゆる有界単調ボレル）\n"
      ]
    },
    {
      "cell_type": "markdown",
      "metadata": {
        "id": "CUX22MeiaonW"
      },
      "source": [
        "今から求めたいのは，$w_0, w_1$のパラメータを決定することであるが，\n",
        "これはいつもの回帰直線を求める問題に帰着できていることが分かる．\n",
        "\n",
        "$w := (w_0, w_1)^{T} \\in \\mathbb{R}^{2}$とする．\n",
        "今回は$x,w$に対する$Y$の条件つき分布がベルヌーイ分布として定義されているので，確率モデル(尤度)は既に定義されている．\n",
        "すなわち，\n",
        "$$ p(y \\, | \\, x, w) = \\left(\\frac{e^{w_0 + w_1x}}{1+e^{w_0 + w_1x}} \\right)^{y} \n",
        "\\left( \\frac{1}{1+e^{w_0 + w_1x}} \\right) ^{1-y} $$\n",
        "である．\n",
        "$N$個のサンプル$S = \\{(x_i, y_i)\\}_{i \\le N}$ に対して，$\\{X_i \\}_{i \\le N}, \\{Y_i \\}_{i \\le N}$は$i$について独立で，$Y_i$は$X_i$と$w$が与えられたもとで条件付き独立である．\n",
        "すなわち，$$ p(y_1, ..., y_N \\,|\\, x_1, ..., x_N, w) = \\prod_{i=1}^{N} p(y_i \\,| x_i, w) $$\n",
        "で表せることに注意する．\n",
        "\n",
        "* [課題3] これを元に，最尤推定法を用いてパラメータ$w$を決定せよ．\n",
        "* [課題4] データセットと回帰曲線をプロットせよ．\n",
        "* [課題5] 新しい入力$x^{*}$に対して，$\\alpha=0.5$に対して$y^{*}$を$0$か$1$で分類する決定境界を求めて，今回使ったデータセットに対して回帰曲線から得られる分類結果をデータセットと比較せよ\n",
        "* [課題6] アドバンス：次のデータセットに対して適切なロジスティック回帰を実現せよ：別のcsvファイルを渡します．\n",
        "\n"
      ]
    },
    {
      "cell_type": "code",
      "execution_count": null,
      "metadata": {
        "id": "g32Wp_8BaonW"
      },
      "outputs": [],
      "source": [
        "# csv読み込んでfloat加工してnd_array型にする\n",
        "def open_csv_to_float(file_path):\n",
        "    with open(file_path, 'r') as f:\n",
        "        data = csv.reader(f)\n",
        "        data = list(data)\n",
        "    return np.array(data).T.astype(float)\n"
      ]
    }
  ],
  "metadata": {
    "kernelspec": {
      "display_name": "Python 3",
      "language": "python",
      "name": "python3"
    },
    "language_info": {
      "codemirror_mode": {
        "name": "ipython",
        "version": 3
      },
      "file_extension": ".py",
      "mimetype": "text/x-python",
      "name": "python",
      "nbconvert_exporter": "python",
      "pygments_lexer": "ipython3",
      "version": "3.6.4"
    },
    "latex_envs": {
      "LaTeX_envs_menu_present": true,
      "autoclose": false,
      "autocomplete": true,
      "bibliofile": "biblio.bib",
      "cite_by": "apalike",
      "current_citInitial": 1,
      "eqLabelWithNumbers": true,
      "eqNumInitial": 1,
      "hotkeys": {
        "equation": "Ctrl-E",
        "itemize": "Ctrl-I"
      },
      "labels_anchors": false,
      "latex_user_defs": false,
      "report_style_numbering": false,
      "user_envs_cfg": false
    },
    "toc": {
      "base_numbering": 1,
      "nav_menu": {},
      "number_sections": true,
      "sideBar": true,
      "skip_h1_title": false,
      "title_cell": "Table of Contents",
      "title_sidebar": "Contents",
      "toc_cell": false,
      "toc_position": {},
      "toc_section_display": true,
      "toc_window_display": false
    },
    "colab": {
      "name": "0629_Logistic_Regression.ipynb",
      "provenance": [],
      "include_colab_link": true
    }
  },
  "nbformat": 4,
  "nbformat_minor": 0
}