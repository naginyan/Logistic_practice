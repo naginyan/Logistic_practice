{
  "nbformat": 4,
  "nbformat_minor": 0,
  "metadata": {
    "colab": {
      "name": "Logistic.ipynb",
      "provenance": [],
      "authorship_tag": "ABX9TyMI5ncA0pkXFQiNsAKP3Y2s",
      "include_colab_link": true
    },
    "kernelspec": {
      "name": "python3",
      "display_name": "Python 3"
    },
    "language_info": {
      "name": "python"
    }
  },
  "cells": [
    {
      "cell_type": "markdown",
      "metadata": {
        "id": "view-in-github",
        "colab_type": "text"
      },
      "source": [
        "<a href=\"https://colab.research.google.com/github/naginyan/Logistic_practice/blob/Sokey_Re/Logistic.ipynb\" target=\"_parent\"><img src=\"https://colab.research.google.com/assets/colab-badge.svg\" alt=\"Open In Colab\"/></a>"
      ]
    },
    {
      "cell_type": "code",
      "source": [
        "import numpy as np\n",
        "import matplotlib.pyplot as plt\n",
        "\n",
        "import random\n",
        "import csv\n",
        "import math\n",
        "import scipy as scp\n",
        "import pandas as pd"
      ],
      "metadata": {
        "id": "chJiRIhBK_Ah"
      },
      "execution_count": 31,
      "outputs": []
    },
    {
      "cell_type": "code",
      "execution_count": 32,
      "metadata": {
        "id": "t6Sjp7fIK9xM",
        "colab": {
          "base_uri": "https://localhost:8080/"
        },
        "outputId": "59dcdd4a-a399-496f-81d8-b8c76a803e06"
      },
      "outputs": [
        {
          "output_type": "stream",
          "name": "stdout",
          "text": [
            "Drive already mounted at /content/drive; to attempt to forcibly remount, call drive.mount(\"/content/drive\", force_remount=True).\n"
          ]
        }
      ],
      "source": [
        "from google.colab import drive\n",
        "drive.mount('/content/drive')\n",
        "\n",
        "def open_csv_to_float_colabo(file_path):\n",
        "    with open('drive/My Drive/Colab Notebooks/sample_data/'+file_path, 'r') as f:\n",
        "        data = csv.reader(f)\n",
        "        data = list(data)\n",
        "    return np.array(data).T.astype(float)"
      ]
    },
    {
      "cell_type": "code",
      "source": [
        "open_csv_to_float_colabo('Logistic_data01.csv')"
      ],
      "metadata": {
        "colab": {
          "base_uri": "https://localhost:8080/"
        },
        "id": "J2yPDs2TMFoI",
        "outputId": "c6bf2651-430e-467e-a0a9-9ede7507bc07"
      },
      "execution_count": 33,
      "outputs": [
        {
          "output_type": "execute_result",
          "data": {
            "text/plain": [
              "array([[-4.87581636, -4.658187  , -4.51289236, -4.39007125, -4.08184911,\n",
              "        -4.0630699 , -3.88043383, -3.85444863, -3.60482784, -2.68858219,\n",
              "        -2.58678507, -2.45076077, -2.0460884 , -1.974663  , -1.62599282,\n",
              "        -1.27933679, -0.9464197 , -0.89865763, -0.85186305, -0.74487188,\n",
              "        -0.43049299, -0.3566026 , -0.27098045, -0.24878922,  0.86081875,\n",
              "         0.91468831,  1.36412997,  1.40518127,  1.53098065,  1.88601623,\n",
              "         1.98652032,  2.02819779,  2.093194  ,  2.24747556,  2.28920006,\n",
              "         2.31364328,  2.36580465,  2.60255676,  2.83909747,  2.88904976,\n",
              "         3.00994393,  3.02801168,  3.09671962,  3.11972978,  3.42375202,\n",
              "         3.43571724,  3.48724704,  3.49345973,  3.53738912,  3.58242898,\n",
              "         3.85941285,  3.88769192,  4.0498554 ,  4.10980144,  4.12305723,\n",
              "         4.12968533,  4.13003861,  4.20948417,  4.29263659,  4.298131  ,\n",
              "         4.33281581,  4.5512455 ,  4.59944758,  4.67716364,  4.93859879,\n",
              "         4.9587921 ,  5.0133345 ,  5.15633814,  5.23556082,  5.40196582,\n",
              "         5.40567641,  5.43765211,  5.55269203,  5.61240501,  5.75092789,\n",
              "         5.7944507 ,  5.86936992,  5.93842491,  5.96478793,  5.98317879],\n",
              "       [ 1.        ,  1.        ,  1.        ,  1.        ,  1.        ,\n",
              "         1.        ,  1.        ,  1.        ,  1.        ,  1.        ,\n",
              "         1.        ,  1.        ,  1.        ,  1.        ,  1.        ,\n",
              "         1.        ,  1.        ,  1.        ,  1.        ,  1.        ,\n",
              "         1.        ,  1.        ,  1.        ,  1.        ,  1.        ,\n",
              "         1.        ,  1.        ,  1.        ,  0.        ,  0.        ,\n",
              "         0.        ,  0.        ,  1.        ,  0.        ,  1.        ,\n",
              "         0.        ,  0.        ,  0.        ,  0.        ,  0.        ,\n",
              "         0.        ,  0.        ,  0.        ,  0.        ,  0.        ,\n",
              "         0.        ,  0.        ,  0.        ,  0.        ,  0.        ,\n",
              "         0.        ,  0.        ,  0.        ,  0.        ,  0.        ,\n",
              "         0.        ,  0.        ,  0.        ,  0.        ,  0.        ,\n",
              "         0.        ,  0.        ,  0.        ,  0.        ,  0.        ,\n",
              "         0.        ,  0.        ,  0.        ,  0.        ,  0.        ,\n",
              "         0.        ,  0.        ,  0.        ,  0.        ,  0.        ,\n",
              "         0.        ,  0.        ,  0.        ,  0.        ,  0.        ]])"
            ]
          },
          "metadata": {},
          "execution_count": 33
        }
      ]
    },
    {
      "cell_type": "code",
      "source": [
        "A = open_csv_to_float_colabo('Logistic_data01.csv').T\n",
        "print(A)"
      ],
      "metadata": {
        "id": "KpLM2IhqMLkh",
        "colab": {
          "base_uri": "https://localhost:8080/"
        },
        "outputId": "c98ea06b-8ef9-42bd-998c-5d2977962b38"
      },
      "execution_count": 34,
      "outputs": [
        {
          "output_type": "stream",
          "name": "stdout",
          "text": [
            "[[-4.87581636  1.        ]\n",
            " [-4.658187    1.        ]\n",
            " [-4.51289236  1.        ]\n",
            " [-4.39007125  1.        ]\n",
            " [-4.08184911  1.        ]\n",
            " [-4.0630699   1.        ]\n",
            " [-3.88043383  1.        ]\n",
            " [-3.85444863  1.        ]\n",
            " [-3.60482784  1.        ]\n",
            " [-2.68858219  1.        ]\n",
            " [-2.58678507  1.        ]\n",
            " [-2.45076077  1.        ]\n",
            " [-2.0460884   1.        ]\n",
            " [-1.974663    1.        ]\n",
            " [-1.62599282  1.        ]\n",
            " [-1.27933679  1.        ]\n",
            " [-0.9464197   1.        ]\n",
            " [-0.89865763  1.        ]\n",
            " [-0.85186305  1.        ]\n",
            " [-0.74487188  1.        ]\n",
            " [-0.43049299  1.        ]\n",
            " [-0.3566026   1.        ]\n",
            " [-0.27098045  1.        ]\n",
            " [-0.24878922  1.        ]\n",
            " [ 0.86081875  1.        ]\n",
            " [ 0.91468831  1.        ]\n",
            " [ 1.36412997  1.        ]\n",
            " [ 1.40518127  1.        ]\n",
            " [ 1.53098065  0.        ]\n",
            " [ 1.88601623  0.        ]\n",
            " [ 1.98652032  0.        ]\n",
            " [ 2.02819779  0.        ]\n",
            " [ 2.093194    1.        ]\n",
            " [ 2.24747556  0.        ]\n",
            " [ 2.28920006  1.        ]\n",
            " [ 2.31364328  0.        ]\n",
            " [ 2.36580465  0.        ]\n",
            " [ 2.60255676  0.        ]\n",
            " [ 2.83909747  0.        ]\n",
            " [ 2.88904976  0.        ]\n",
            " [ 3.00994393  0.        ]\n",
            " [ 3.02801168  0.        ]\n",
            " [ 3.09671962  0.        ]\n",
            " [ 3.11972978  0.        ]\n",
            " [ 3.42375202  0.        ]\n",
            " [ 3.43571724  0.        ]\n",
            " [ 3.48724704  0.        ]\n",
            " [ 3.49345973  0.        ]\n",
            " [ 3.53738912  0.        ]\n",
            " [ 3.58242898  0.        ]\n",
            " [ 3.85941285  0.        ]\n",
            " [ 3.88769192  0.        ]\n",
            " [ 4.0498554   0.        ]\n",
            " [ 4.10980144  0.        ]\n",
            " [ 4.12305723  0.        ]\n",
            " [ 4.12968533  0.        ]\n",
            " [ 4.13003861  0.        ]\n",
            " [ 4.20948417  0.        ]\n",
            " [ 4.29263659  0.        ]\n",
            " [ 4.298131    0.        ]\n",
            " [ 4.33281581  0.        ]\n",
            " [ 4.5512455   0.        ]\n",
            " [ 4.59944758  0.        ]\n",
            " [ 4.67716364  0.        ]\n",
            " [ 4.93859879  0.        ]\n",
            " [ 4.9587921   0.        ]\n",
            " [ 5.0133345   0.        ]\n",
            " [ 5.15633814  0.        ]\n",
            " [ 5.23556082  0.        ]\n",
            " [ 5.40196582  0.        ]\n",
            " [ 5.40567641  0.        ]\n",
            " [ 5.43765211  0.        ]\n",
            " [ 5.55269203  0.        ]\n",
            " [ 5.61240501  0.        ]\n",
            " [ 5.75092789  0.        ]\n",
            " [ 5.7944507   0.        ]\n",
            " [ 5.86936992  0.        ]\n",
            " [ 5.93842491  0.        ]\n",
            " [ 5.96478793  0.        ]\n",
            " [ 5.98317879  0.        ]]\n"
          ]
        }
      ]
    },
    {
      "cell_type": "code",
      "source": [
        "list_1 = []\n",
        "list_0 = []\n",
        "for i in range(len(A)):\n",
        "    if A[i][1]==1:\n",
        "        list_1.append(A[i])\n",
        "    else:\n",
        "        list_0.append(A[i])\n",
        "\n",
        "B = np.array(list_1).T \n",
        "C = np.array(list_0).T \n",
        "print(np.array(list_1).T)\n",
        "print(np.array(list_0).T)"
      ],
      "metadata": {
        "colab": {
          "base_uri": "https://localhost:8080/"
        },
        "id": "BB6sEuiqE4ZD",
        "outputId": "bbf9db88-573f-4b61-f2a1-f2c80cbb53a9"
      },
      "execution_count": 35,
      "outputs": [
        {
          "output_type": "stream",
          "name": "stdout",
          "text": [
            "[[-4.87581636 -4.658187   -4.51289236 -4.39007125 -4.08184911 -4.0630699\n",
            "  -3.88043383 -3.85444863 -3.60482784 -2.68858219 -2.58678507 -2.45076077\n",
            "  -2.0460884  -1.974663   -1.62599282 -1.27933679 -0.9464197  -0.89865763\n",
            "  -0.85186305 -0.74487188 -0.43049299 -0.3566026  -0.27098045 -0.24878922\n",
            "   0.86081875  0.91468831  1.36412997  1.40518127  2.093194    2.28920006]\n",
            " [ 1.          1.          1.          1.          1.          1.\n",
            "   1.          1.          1.          1.          1.          1.\n",
            "   1.          1.          1.          1.          1.          1.\n",
            "   1.          1.          1.          1.          1.          1.\n",
            "   1.          1.          1.          1.          1.          1.        ]]\n",
            "[[1.53098065 1.88601623 1.98652032 2.02819779 2.24747556 2.31364328\n",
            "  2.36580465 2.60255676 2.83909747 2.88904976 3.00994393 3.02801168\n",
            "  3.09671962 3.11972978 3.42375202 3.43571724 3.48724704 3.49345973\n",
            "  3.53738912 3.58242898 3.85941285 3.88769192 4.0498554  4.10980144\n",
            "  4.12305723 4.12968533 4.13003861 4.20948417 4.29263659 4.298131\n",
            "  4.33281581 4.5512455  4.59944758 4.67716364 4.93859879 4.9587921\n",
            "  5.0133345  5.15633814 5.23556082 5.40196582 5.40567641 5.43765211\n",
            "  5.55269203 5.61240501 5.75092789 5.7944507  5.86936992 5.93842491\n",
            "  5.96478793 5.98317879]\n",
            " [0.         0.         0.         0.         0.         0.\n",
            "  0.         0.         0.         0.         0.         0.\n",
            "  0.         0.         0.         0.         0.         0.\n",
            "  0.         0.         0.         0.         0.         0.\n",
            "  0.         0.         0.         0.         0.         0.\n",
            "  0.         0.         0.         0.         0.         0.\n",
            "  0.         0.         0.         0.         0.         0.\n",
            "  0.         0.         0.         0.         0.         0.\n",
            "  0.         0.        ]]\n"
          ]
        }
      ]
    },
    {
      "cell_type": "code",
      "source": [
        "plt.plot(B[0],B[1],'o')\n",
        "plt.plot(C[0],C[1],'o')"
      ],
      "metadata": {
        "colab": {
          "base_uri": "https://localhost:8080/",
          "height": 283
        },
        "id": "C0FTnO2HF68t",
        "outputId": "bdb628cd-86d7-474d-a831-54c76e8ab993"
      },
      "execution_count": 36,
      "outputs": [
        {
          "output_type": "execute_result",
          "data": {
            "text/plain": [
              "[<matplotlib.lines.Line2D at 0x7f5fb759b250>]"
            ]
          },
          "metadata": {},
          "execution_count": 36
        },
        {
          "output_type": "display_data",
          "data": {
            "text/plain": [
              "<Figure size 432x288 with 1 Axes>"
            ],
            "image/png": "[encoded data removed]"
          },
          "metadata": {
            "needs_background": "light"
          }
        }
      ]
    },
    {
      "cell_type": "markdown",
      "source": [
        "#最尤推定"
      ],
      "metadata": {
        "id": "Lcv5k-Zb9UoZ"
      }
    },
    {
      "cell_type": "code",
      "source": [
        "x,y = A[1]"
      ],
      "metadata": {
        "id": "8I61RTWqFhBg"
      },
      "execution_count": 37,
      "outputs": []
    },
    {
      "cell_type": "code",
      "source": [
        "w0=1\n",
        "w1=1\n",
        "f = ((math.e**(w0+w1*x))/(1+math.e**(w0+w1*x)))**1\n",
        "print(f)"
      ],
      "metadata": {
        "colab": {
          "base_uri": "https://localhost:8080/"
        },
        "id": "_4TFLWQd-OqH",
        "outputId": "f429ad6b-c1fb-4238-83d7-63b2599831c7"
      },
      "execution_count": 38,
      "outputs": [
        {
          "output_type": "stream",
          "name": "stdout",
          "text": [
            "0.02513134204268933\n"
          ]
        }
      ]
    },
    {
      "cell_type": "code",
      "source": [
        "def f(w0,w1,list_):\n",
        "    list_0 = []\n",
        "    for i in range(len(list_)):\n",
        "        list_0.append(-list_[i][1]*(w0+w1*list_[i][0])+math.log(1+math.e**(w0+w1*list_[i][0])))\n",
        "     \n",
        "    A = np.sum(list_0)\n",
        "    return A "
      ],
      "metadata": {
        "id": "_gFiTC_x-wgv"
      },
      "execution_count": 39,
      "outputs": []
    },
    {
      "cell_type": "code",
      "source": [
        "def Multivariate_Gradient_descent_(f,df,init,step,accuracy,MAX_LOOP):\n",
        "    x_old = init\n",
        "    for i in range(MAX_LOOP):\n",
        "        \n",
        "        x_new = x_old - step * np.array(df(*x_old,list_))\n",
        "\n",
        "        if np.linalg.norm(df(*x_new,list_), ord=2) < accuracy :\n",
        "            break\n",
        "        else:\n",
        "            x_old = x_new\n",
        "            \n",
        "\n",
        "    return list(x_new), f(*x_new,list_)"
      ],
      "metadata": {
        "id": "cNpv23pnIfjC"
      },
      "execution_count": 40,
      "outputs": []
    },
    {
      "cell_type": "code",
      "source": [
        "def df_w0(w0,w1,list_):\n",
        "\n",
        "    list_0 = []\n",
        "    for i in range(len(list_)):\n",
        "        list_0.append(-list_[i][1]+math.e**(w0+w1*list_[i][0])/(1+math.e**(w0+w1*list_[i][0])))\n",
        " \n",
        "    A = np.sum(list_0)\n",
        "    return A "
      ],
      "metadata": {
        "id": "rUY0sLdiI8du"
      },
      "execution_count": 41,
      "outputs": []
    },
    {
      "cell_type": "code",
      "source": [
        "def df_w1(w0,w1,list_):\n",
        "\n",
        "    list_0 = []\n",
        "    for i in range(len(list_)):\n",
        "        list_0.append(-list_[i][1]*list_[i][0]+list_[i][0]*math.e**(w0+w1*list_[i][0])/(1+math.e**(w0+w1*list_[i][0])))\n",
        " \n",
        "    A = np.sum(list_0)\n",
        "    return A "
      ],
      "metadata": {
        "id": "XgGqjUSSUm9Q"
      },
      "execution_count": 42,
      "outputs": []
    },
    {
      "cell_type": "code",
      "source": [
        "def df(w0,w1,list_):\n",
        "    return [df_w0(w0,w1,list_),df_w1(w0,w1,list_)]\n",
        "list_ = A   \n",
        "df(*[4.0,4.0],A)"
      ],
      "metadata": {
        "colab": {
          "base_uri": "https://localhost:8080/"
        },
        "id": "MlvVOxThU1WF",
        "outputId": "b561275e-5ea3-463a-d213-4ad73ad0d55a"
      },
      "execution_count": 43,
      "outputs": [
        {
          "output_type": "execute_result",
          "data": {
            "text/plain": [
              "[32.63164947181139, 256.5912220756267]"
            ]
          },
          "metadata": {},
          "execution_count": 43
        }
      ]
    },
    {
      "cell_type": "code",
      "source": [
        "list_ = A\n",
        "init=[4.,4.]\n",
        "step=0.01\n",
        "accuracy=0.01\n",
        "MAX_LOOP = 10000\n",
        "count = []\n",
        "x_old = init\n",
        "for i in range(MAX_LOOP):\n",
        "        count.append(i+1)\n",
        "        x_new = x_old - step * np.array(df(*x_old,list_))\n",
        "\n",
        "        if np.linalg.norm(df(*x_new,list_), ord=2) < accuracy :\n",
        "            break\n",
        "        else:\n",
        "            x_old = x_new\n",
        "\n",
        "print(list(x_new), f(*x_new,list_),max(count))            "
      ],
      "metadata": {
        "colab": {
          "base_uri": "https://localhost:8080/"
        },
        "id": "5KqSs7diVq7o",
        "outputId": "d6d172ad-a60c-4e0e-b523-6f8e115c6d99"
      },
      "execution_count": 53,
      "outputs": [
        {
          "output_type": "stream",
          "name": "stdout",
          "text": [
            "[5.821721340261114, -3.3430519930050666] 6.943696664071068 2842\n"
          ]
        }
      ]
    },
    {
      "cell_type": "code",
      "source": [
        "def sigmoid_function(x,w0,w1):\n",
        "    return 1/(1+math.e**(w0+w1*x)) "
      ],
      "metadata": {
        "id": "BUS_gD2HMlqy"
      },
      "execution_count": 54,
      "outputs": []
    },
    {
      "cell_type": "code",
      "source": [
        "w0_ =x_new[0]\n",
        "w1_ = x_new[1]\n",
        "\n",
        "x = np.linspace(-6,6)\n",
        "g = sigmoid_function(x,w0_,w1_) \n",
        "plt.plot(x,1-g)\n",
        "plt.plot(B[0],B[1],'o')\n",
        "plt.plot(C[0],C[1],'o')"
      ],
      "metadata": {
        "colab": {
          "base_uri": "https://localhost:8080/",
          "height": 283
        },
        "id": "nzyBCN3qWWCA",
        "outputId": "45f5c44d-391b-4af4-90b9-3ba8bac8b3ed"
      },
      "execution_count": 55,
      "outputs": [
        {
          "output_type": "execute_result",
          "data": {
            "text/plain": [
              "[<matplotlib.lines.Line2D at 0x7f5fb7516150>]"
            ]
          },
          "metadata": {},
          "execution_count": 55
        },
        {
          "output_type": "display_data",
          "data": {
            "text/plain": [
              "<Figure size 432x288 with 1 Axes>"
            ],
            "image/png": "[encoded data removed]"
          },
          "metadata": {
            "needs_background": "light"
          }
        }
      ]
    },
    {
      "cell_type": "code",
      "source": [
        ""
      ],
      "metadata": {
        "id": "z230zi_VNb6L"
      },
      "execution_count": null,
      "outputs": []
    }
  ]
}