{
  "nbformat": 4,
  "nbformat_minor": 0,
  "metadata": {
    "colab": {
      "name": "Logistic.ipynb",
      "provenance": [],
      "authorship_tag": "ABX9TyNeCGmROyki90jSSdJiHUNh",
      "include_colab_link": true
    },
    "kernelspec": {
      "name": "python3",
      "display_name": "Python 3"
    },
    "language_info": {
      "name": "python"
    }
  },
  "cells": [
    {
      "cell_type": "markdown",
      "metadata": {
        "id": "view-in-github",
        "colab_type": "text"
      },
      "source": [
        "<a href=\"https://colab.research.google.com/github/naginyan/Logistic_practice/blob/Sokey_Re/Logistic.ipynb\" target=\"_parent\"><img src=\"https://colab.research.google.com/assets/colab-badge.svg\" alt=\"Open In Colab\"/></a>"
      ]
    },
    {
      "cell_type": "code",
      "source": [
        "import numpy as np\n",
        "import matplotlib.pyplot as plt\n",
        "\n",
        "import random\n",
        "import csv\n",
        "import math\n",
        "import scipy as scp\n",
        "import pandas as pd"
      ],
      "metadata": {
        "id": "chJiRIhBK_Ah"
      },
      "execution_count": null,
      "outputs": []
    },
    {
      "cell_type": "code",
      "execution_count": null,
      "metadata": {
        "id": "t6Sjp7fIK9xM",
        "colab": {
          "base_uri": "https://localhost:8080/"
        },
        "outputId": "ffe77ed7-dbad-422a-dbe3-bf31b9cf50da"
      },
      "outputs": [
        {
          "output_type": "stream",
          "name": "stdout",
          "text": [
            "Drive already mounted at /content/drive; to attempt to forcibly remount, call drive.mount(\"/content/drive\", force_remount=True).\n"
          ]
        }
      ],
      "source": [
        "from google.colab import drive\n",
        "drive.mount('/content/drive')\n",
        "\n",
        "def open_csv_to_float_colabo(file_path):\n",
        "    with open('drive/My Drive/Colab Notebooks/sample_data/'+file_path, 'r') as f:\n",
        "        data = csv.reader(f)\n",
        "        data = list(data)\n",
        "    return np.array(data).T.astype(float)"
      ]
    },
    {
      "cell_type": "code",
      "source": [
        "open_csv_to_float_colabo('Logistic_data01.csv')"
      ],
      "metadata": {
        "colab": {
          "base_uri": "https://localhost:8080/"
        },
        "id": "J2yPDs2TMFoI",
        "outputId": "ba4dcdf4-e7f5-4ef0-c747-c503b27c39ab"
      },
      "execution_count": null,
      "outputs": [
        {
          "output_type": "execute_result",
          "data": {
            "text/plain": [
              "array([[-4.87581636, -4.658187  , -4.51289236, -4.39007125, -4.08184911,\n",
              "        -4.0630699 , -3.88043383, -3.85444863, -3.60482784, -2.68858219,\n",
              "        -2.58678507, -2.45076077, -2.0460884 , -1.974663  , -1.62599282,\n",
              "        -1.27933679, -0.9464197 , -0.89865763, -0.85186305, -0.74487188,\n",
              "        -0.43049299, -0.3566026 , -0.27098045, -0.24878922,  0.86081875,\n",
              "         0.91468831,  1.36412997,  1.40518127,  1.53098065,  1.88601623,\n",
              "         1.98652032,  2.02819779,  2.093194  ,  2.24747556,  2.28920006,\n",
              "         2.31364328,  2.36580465,  2.60255676,  2.83909747,  2.88904976,\n",
              "         3.00994393,  3.02801168,  3.09671962,  3.11972978,  3.42375202,\n",
              "         3.43571724,  3.48724704,  3.49345973,  3.53738912,  3.58242898,\n",
              "         3.85941285,  3.88769192,  4.0498554 ,  4.10980144,  4.12305723,\n",
              "         4.12968533,  4.13003861,  4.20948417,  4.29263659,  4.298131  ,\n",
              "         4.33281581,  4.5512455 ,  4.59944758,  4.67716364,  4.93859879,\n",
              "         4.9587921 ,  5.0133345 ,  5.15633814,  5.23556082,  5.40196582,\n",
              "         5.40567641,  5.43765211,  5.55269203,  5.61240501,  5.75092789,\n",
              "         5.7944507 ,  5.86936992,  5.93842491,  5.96478793,  5.98317879],\n",
              "       [ 1.        ,  1.        ,  1.        ,  1.        ,  1.        ,\n",
              "         1.        ,  1.        ,  1.        ,  1.        ,  1.        ,\n",
              "         1.        ,  1.        ,  1.        ,  1.        ,  1.        ,\n",
              "         1.        ,  1.        ,  1.        ,  1.        ,  1.        ,\n",
              "         1.        ,  1.        ,  1.        ,  1.        ,  1.        ,\n",
              "         1.        ,  1.        ,  1.        ,  0.        ,  0.        ,\n",
              "         0.        ,  0.        ,  1.        ,  0.        ,  1.        ,\n",
              "         0.        ,  0.        ,  0.        ,  0.        ,  0.        ,\n",
              "         0.        ,  0.        ,  0.        ,  0.        ,  0.        ,\n",
              "         0.        ,  0.        ,  0.        ,  0.        ,  0.        ,\n",
              "         0.        ,  0.        ,  0.        ,  0.        ,  0.        ,\n",
              "         0.        ,  0.        ,  0.        ,  0.        ,  0.        ,\n",
              "         0.        ,  0.        ,  0.        ,  0.        ,  0.        ,\n",
              "         0.        ,  0.        ,  0.        ,  0.        ,  0.        ,\n",
              "         0.        ,  0.        ,  0.        ,  0.        ,  0.        ,\n",
              "         0.        ,  0.        ,  0.        ,  0.        ,  0.        ]])"
            ]
          },
          "metadata": {},
          "execution_count": 36
        }
      ]
    },
    {
      "cell_type": "code",
      "source": [
        "A = open_csv_to_float_colabo('Logistic_data01.csv').T\n",
        "print(A)"
      ],
      "metadata": {
        "id": "KpLM2IhqMLkh",
        "colab": {
          "base_uri": "https://localhost:8080/"
        },
        "outputId": "f43a231d-b236-4e85-b196-3202908ed931"
      },
      "execution_count": null,
      "outputs": [
        {
          "output_type": "stream",
          "name": "stdout",
          "text": [
            "[[-4.87581636  1.        ]\n",
            " [-4.658187    1.        ]\n",
            " [-4.51289236  1.        ]\n",
            " [-4.39007125  1.        ]\n",
            " [-4.08184911  1.        ]\n",
            " [-4.0630699   1.        ]\n",
            " [-3.88043383  1.        ]\n",
            " [-3.85444863  1.        ]\n",
            " [-3.60482784  1.        ]\n",
            " [-2.68858219  1.        ]\n",
            " [-2.58678507  1.        ]\n",
            " [-2.45076077  1.        ]\n",
            " [-2.0460884   1.        ]\n",
            " [-1.974663    1.        ]\n",
            " [-1.62599282  1.        ]\n",
            " [-1.27933679  1.        ]\n",
            " [-0.9464197   1.        ]\n",
            " [-0.89865763  1.        ]\n",
            " [-0.85186305  1.        ]\n",
            " [-0.74487188  1.        ]\n",
            " [-0.43049299  1.        ]\n",
            " [-0.3566026   1.        ]\n",
            " [-0.27098045  1.        ]\n",
            " [-0.24878922  1.        ]\n",
            " [ 0.86081875  1.        ]\n",
            " [ 0.91468831  1.        ]\n",
            " [ 1.36412997  1.        ]\n",
            " [ 1.40518127  1.        ]\n",
            " [ 1.53098065  0.        ]\n",
            " [ 1.88601623  0.        ]\n",
            " [ 1.98652032  0.        ]\n",
            " [ 2.02819779  0.        ]\n",
            " [ 2.093194    1.        ]\n",
            " [ 2.24747556  0.        ]\n",
            " [ 2.28920006  1.        ]\n",
            " [ 2.31364328  0.        ]\n",
            " [ 2.36580465  0.        ]\n",
            " [ 2.60255676  0.        ]\n",
            " [ 2.83909747  0.        ]\n",
            " [ 2.88904976  0.        ]\n",
            " [ 3.00994393  0.        ]\n",
            " [ 3.02801168  0.        ]\n",
            " [ 3.09671962  0.        ]\n",
            " [ 3.11972978  0.        ]\n",
            " [ 3.42375202  0.        ]\n",
            " [ 3.43571724  0.        ]\n",
            " [ 3.48724704  0.        ]\n",
            " [ 3.49345973  0.        ]\n",
            " [ 3.53738912  0.        ]\n",
            " [ 3.58242898  0.        ]\n",
            " [ 3.85941285  0.        ]\n",
            " [ 3.88769192  0.        ]\n",
            " [ 4.0498554   0.        ]\n",
            " [ 4.10980144  0.        ]\n",
            " [ 4.12305723  0.        ]\n",
            " [ 4.12968533  0.        ]\n",
            " [ 4.13003861  0.        ]\n",
            " [ 4.20948417  0.        ]\n",
            " [ 4.29263659  0.        ]\n",
            " [ 4.298131    0.        ]\n",
            " [ 4.33281581  0.        ]\n",
            " [ 4.5512455   0.        ]\n",
            " [ 4.59944758  0.        ]\n",
            " [ 4.67716364  0.        ]\n",
            " [ 4.93859879  0.        ]\n",
            " [ 4.9587921   0.        ]\n",
            " [ 5.0133345   0.        ]\n",
            " [ 5.15633814  0.        ]\n",
            " [ 5.23556082  0.        ]\n",
            " [ 5.40196582  0.        ]\n",
            " [ 5.40567641  0.        ]\n",
            " [ 5.43765211  0.        ]\n",
            " [ 5.55269203  0.        ]\n",
            " [ 5.61240501  0.        ]\n",
            " [ 5.75092789  0.        ]\n",
            " [ 5.7944507   0.        ]\n",
            " [ 5.86936992  0.        ]\n",
            " [ 5.93842491  0.        ]\n",
            " [ 5.96478793  0.        ]\n",
            " [ 5.98317879  0.        ]]\n"
          ]
        }
      ]
    },
    {
      "cell_type": "code",
      "source": [
        "list_1 = []\n",
        "list_0 = []\n",
        "for i in range(len(A)):\n",
        "    if A[i][1]==1:\n",
        "        list_1.append(A[i])\n",
        "    else:\n",
        "        list_0.append(A[i])\n",
        "\n",
        "B = np.array(list_1).T \n",
        "C = np.array(list_0).T \n",
        "print(np.array(list_1).T)\n",
        "print(np.array(list_0).T)"
      ],
      "metadata": {
        "colab": {
          "base_uri": "https://localhost:8080/"
        },
        "id": "BB6sEuiqE4ZD",
        "outputId": "7bd440d3-394d-485e-9fdb-3313b20c527d"
      },
      "execution_count": null,
      "outputs": [
        {
          "output_type": "stream",
          "name": "stdout",
          "text": [
            "[[-4.87581636 -4.658187   -4.51289236 -4.39007125 -4.08184911 -4.0630699\n",
            "  -3.88043383 -3.85444863 -3.60482784 -2.68858219 -2.58678507 -2.45076077\n",
            "  -2.0460884  -1.974663   -1.62599282 -1.27933679 -0.9464197  -0.89865763\n",
            "  -0.85186305 -0.74487188 -0.43049299 -0.3566026  -0.27098045 -0.24878922\n",
            "   0.86081875  0.91468831  1.36412997  1.40518127  2.093194    2.28920006]\n",
            " [ 1.          1.          1.          1.          1.          1.\n",
            "   1.          1.          1.          1.          1.          1.\n",
            "   1.          1.          1.          1.          1.          1.\n",
            "   1.          1.          1.          1.          1.          1.\n",
            "   1.          1.          1.          1.          1.          1.        ]]\n",
            "[[1.53098065 1.88601623 1.98652032 2.02819779 2.24747556 2.31364328\n",
            "  2.36580465 2.60255676 2.83909747 2.88904976 3.00994393 3.02801168\n",
            "  3.09671962 3.11972978 3.42375202 3.43571724 3.48724704 3.49345973\n",
            "  3.53738912 3.58242898 3.85941285 3.88769192 4.0498554  4.10980144\n",
            "  4.12305723 4.12968533 4.13003861 4.20948417 4.29263659 4.298131\n",
            "  4.33281581 4.5512455  4.59944758 4.67716364 4.93859879 4.9587921\n",
            "  5.0133345  5.15633814 5.23556082 5.40196582 5.40567641 5.43765211\n",
            "  5.55269203 5.61240501 5.75092789 5.7944507  5.86936992 5.93842491\n",
            "  5.96478793 5.98317879]\n",
            " [0.         0.         0.         0.         0.         0.\n",
            "  0.         0.         0.         0.         0.         0.\n",
            "  0.         0.         0.         0.         0.         0.\n",
            "  0.         0.         0.         0.         0.         0.\n",
            "  0.         0.         0.         0.         0.         0.\n",
            "  0.         0.         0.         0.         0.         0.\n",
            "  0.         0.         0.         0.         0.         0.\n",
            "  0.         0.         0.         0.         0.         0.\n",
            "  0.         0.        ]]\n"
          ]
        }
      ]
    },
    {
      "cell_type": "code",
      "source": [
        "plt.plot(B[0],B[1],'o')\n",
        "plt.plot(C[0],C[1],'o')"
      ],
      "metadata": {
        "colab": {
          "base_uri": "https://localhost:8080/",
          "height": 283
        },
        "id": "C0FTnO2HF68t",
        "outputId": "12fb5b0f-dc42-41fa-ea40-95fe6872a33d"
      },
      "execution_count": null,
      "outputs": [
        {
          "output_type": "execute_result",
          "data": {
            "text/plain": [
              "[<matplotlib.lines.Line2D at 0x7f12605f6ad0>]"
            ]
          },
          "metadata": {},
          "execution_count": 39
        },
        {
          "output_type": "display_data",
          "data": {
            "text/plain": [
              "<Figure size 432x288 with 1 Axes>"
            ],
            "image/png": "[encoded data removed]"
          },
          "metadata": {
            "needs_background": "light"
          }
        }
      ]
    },
    {
      "cell_type": "markdown",
      "source": [
        "#最尤推定"
      ],
      "metadata": {
        "id": "Lcv5k-Zb9UoZ"
      }
    },
    {
      "cell_type": "code",
      "source": [
        "x,y = A[1]"
      ],
      "metadata": {
        "id": "8I61RTWqFhBg"
      },
      "execution_count": null,
      "outputs": []
    },
    {
      "cell_type": "code",
      "source": [
        "w0=1\n",
        "w1=1\n",
        "f = ((math.e**(w0+w1*x))/(1+math.e**(w0+w1*x)))**1\n",
        "print(f)"
      ],
      "metadata": {
        "colab": {
          "base_uri": "https://localhost:8080/"
        },
        "id": "_4TFLWQd-OqH",
        "outputId": "c371fada-f6d6-423d-83f7-ef6ff538d3d4"
      },
      "execution_count": null,
      "outputs": [
        {
          "output_type": "stream",
          "name": "stdout",
          "text": [
            "0.02513134204268933\n"
          ]
        }
      ]
    },
    {
      "cell_type": "code",
      "source": [
        "def f(w0,w1,list_):\n",
        "    list_0 = []\n",
        "    for i in range(len(list_)):\n",
        "        list_0.append(list_[i][1]*(w0+w1*list_[i][0])-math.log(1+math.e**(w0+w1*list_[i][0])))\n",
        "     \n",
        "    A = np.sum(list_0)\n",
        "    return A "
      ],
      "metadata": {
        "id": "_gFiTC_x-wgv"
      },
      "execution_count": null,
      "outputs": []
    },
    {
      "cell_type": "code",
      "source": [
        ""
      ],
      "metadata": {
        "id": "cNpv23pnIfjC"
      },
      "execution_count": null,
      "outputs": []
    },
    {
      "cell_type": "code",
      "source": [
        ""
      ],
      "metadata": {
        "id": "rUY0sLdiI8du"
      },
      "execution_count": null,
      "outputs": []
    }
  ]
}