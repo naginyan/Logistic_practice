{
 "cells": [
  {
   "cell_type": "code",
   "execution_count": 117,
   "metadata": {
    "ExecuteTime": {
     "end_time": "2022-07-12T13:04:51.967965Z",
     "start_time": "2022-07-12T13:04:51.955973Z"
    }
   },
   "outputs": [],
   "source": [
    "# 必要なライブラリ全部import\n",
    "import numpy as np\n",
    "import matplotlib.pyplot as plt\n",
    "import csv\n",
    "import math\n",
    "\n",
    "import random\n",
    "import scipy as scp\n",
    "import pandas as pd\n"
   ]
  },
  {
   "cell_type": "code",
   "execution_count": 118,
   "metadata": {
    "ExecuteTime": {
     "end_time": "2022-07-12T13:04:53.119105Z",
     "start_time": "2022-07-12T13:04:52.710622Z"
    }
   },
   "outputs": [],
   "source": [
    "# ２値データのCSV化\n",
    "def data_to_csv(x_list, y_list, name=\"data\", encoding=\"cp932\"):\n",
    "    if len(x_list) != len(y_list):\n",
    "        return -1\n",
    "    else:\n",
    "        values = np.array([x_list, y_list]).T\n",
    "        num_list = range(1, len(x_list)+1)\n",
    "        column_list = [\"x\", \"y\"]\n",
    "        result_pd = pd.DataFrame(data=values, index=num_list, columns=column_list)\n",
    "        result_pd.to_csv(name+\".csv\", encoding='cp932')\n",
    "\n",
    "# csv読み込んでfloat加工してnd_array型にする\n",
    "def open_csv_to_float(file_path):\n",
    "    with open(file_path, 'r') as f:\n",
    "        data = csv.reader(f)\n",
    "        data = list(data)\n",
    "    return np.array(data).T.astype(float)\n",
    "\n",
    "# 完成コード\n",
    "# 最初のチェック\n",
    "# チェックが済んだら，終了フラグと次元数とstepを返す\n",
    "def initial_test(func_, dfunc_, init_z, step):\n",
    "    # このフラグは異常を見つけたら1になる．\n",
    "    flag_init = 0\n",
    "    # 最初に導関数リストと初期値の次元のチェック\n",
    "    # 合っていなければフラグを立てる\n",
    "    if len(dfunc_) != len(init_z):\n",
    "        print(\"[error] 関数と初期値の次元が異なる．\")\n",
    "        flag_init = 1\n",
    "    # 合っている場合は次元数を定義\n",
    "    else:\n",
    "        dim = len(init_z)\n",
    "    \n",
    "    # 関数と導関数の初期値でOverflowを起こすならば初期値を変えるしかないのでフラグを立てる\n",
    "    try:\n",
    "        test_f = func_(init_z)\n",
    "        test_df = [dfunc_[j](init_z) for j in range(dim)]\n",
    "    except OverflowError:\n",
    "        flag_init = 1\n",
    "        print(\"Choose the other init_value\")\n",
    "    \n",
    "    # step が負か1以上の数字なら，ステップを強制的に調整する．\n",
    "    if (step <= 0. or step >= 1.):\n",
    "        step = 0.1\n",
    "    # 終了フラグ，次元数，ステップを返す\n",
    "    return flag_init, dim, step\n",
    "\n",
    "# z の更新に関する関数\n",
    "def next_z(func_, dfunc_, step, z_now, dim, MAX_UPDATE=100):\n",
    "    # MAX_UPDATEまでしても更新できなかったときは処理を終了させるためのフラグ\n",
    "    # 終了条件の中にこのフラグを条件に組み込む\n",
    "    # もう全く進まないとか，-infまで落ちるときの対策\n",
    "    flag_z = 0\n",
    "    # 勾配ベクトルを内部関数として定義する\n",
    "    def grad(dfunc_, z, dim):\n",
    "            return np.array([dfunc_[j](z) for j in range(dim)])\n",
    "    for k in range(MAX_UPDATE):\n",
    "        # 先に勾配が計算出来ることを確認しているのでここで+infの方に超えることはない．(おそらく...)\n",
    "        z_update = z_now - step * grad(dfunc_, z_now, dim)\n",
    "    # Overflowが起こったらstepを減少させる\n",
    "        try:\n",
    "            flag = bool(func_(z_now) > func_(z_update))\n",
    "        except OverflowError:\n",
    "            step *= 0.5\n",
    "            continue\n",
    "        # flagが立てば正常終了\n",
    "        if flag:\n",
    "            return z_update, step, flag_z\n",
    "        # step幅を減少させて再び更新を試す．\n",
    "        else:\n",
    "            # print(\"reduced step\")\n",
    "            step *= 0.5\n",
    "    # 上限更新を経てしまったときは，フラグを立てて終了条件に引っかける\n",
    "    if k == (MAX_UPDATE - 1):\n",
    "        flag_z = 1\n",
    "        # ｚの更新値，更新されたステップ，終了フラグを返す\n",
    "        return z_update, step, flag_z\n",
    "\n",
    "# func_: 最小値を求めたい対象の関数\n",
    "# 任意の次元の関数で実行可能\n",
    "def multi_grad_descent(func_, dfunc_: list, init_z: list, accuracy=10e-4, step=0.01, MAX_LOOP=1000, debug=True):\n",
    "    # 最初のチェックを回す\n",
    "    flag_end, dim_now, step = initial_test(func_, dfunc_, init_z, step)\n",
    "    # フラグが立っていたら終了する．データはNoneで返す\n",
    "    if flag_end:\n",
    "        return [None for s in range(dim_now)]\n",
    "    # 勾配ベクトルを内部関数として定義する\n",
    "    def grad(dfunc_, z, dim=dim_now):\n",
    "            return np.array([dfunc_[j](z) for j in range(dim)])\n",
    "    z_old = np.array(init_z)\n",
    "    # 勾配ベクトルの２乗ノルムを記録する．勾配->0になる挙動を観察するため\n",
    "    acc_list = [np.linalg.norm(grad(dfunc_, z_old))]\n",
    "    for i in range(MAX_LOOP):\n",
    "        # zを更新する\n",
    "        z_new, step, flag_z = next_z(func_, dfunc_, step, z_now=z_old, dim=dim_now, MAX_UPDATE=100)\n",
    "        # 2乗ノルムを判定値にする\n",
    "        judge = np.linalg.norm(grad(dfunc_, z_new, dim=dim_now))\n",
    "        acc_list.append(judge)\n",
    "        # 終了判定は上限回数回してもｚの更新ができないときのフラグが立った時か\n",
    "        # 勾配ベクトルの2乗ノルムが十分小さいとき\n",
    "        if (judge < accuracy or flag_z):\n",
    "            if flag_z:\n",
    "                print(\"z の更新が最大に達したので強制終了．今の値を返します\")\n",
    "            break\n",
    "        else:\n",
    "            z_old = z_new\n",
    "    print(\"[{}]: z= {}, min f(z)= {}\".format(i+1, z_new, func_(z_new)))\n",
    "    if debug:\n",
    "        plt.plot(range(len(acc_list)), acc_list)\n",
    "        plt.show()\n",
    "    return z_new, func_(z_new), acc_list\n"
   ]
  },
  {
   "cell_type": "code",
   "execution_count": 119,
   "metadata": {
    "ExecuteTime": {
     "end_time": "2022-07-12T13:05:00.995515Z",
     "start_time": "2022-07-12T13:05:00.785060Z"
    }
   },
   "outputs": [
    {
     "data": {
      "text/plain": [
       "[<matplotlib.lines.Line2D at 0x1d2ce90b780>]"
      ]
     },
     "execution_count": 119,
     "metadata": {},
     "output_type": "execute_result"
    },
    {
     "data": {
      "image/png": "[encoded data removed]",
      "text/plain": [
       "<matplotlib.figure.Figure at 0x1d2ce90bc50>"
      ]
     },
     "metadata": {},
     "output_type": "display_data"
    }
   ],
   "source": [
    "data01 = open_csv_to_float(\"./Logistic_data01.csv\")\n",
    "# 予想値：W = [3.6, -5.2, -8]\n",
    "data01_T = data01.T\n",
    "# print(data01)\n",
    "data01_ones = np.array([list(data01_T[i]) for i in range(len(data01_T)) if data01_T[i][1] == 1.]).T\n",
    "data01_zeros = np.array([list(data01_T[i]) for i in range(len(data01_T)) if data01_T[i][1] == 0.]).T\n",
    "\n",
    "plt.plot(data01_ones[0], data01_ones[1], \"o\")\n",
    "plt.plot(data01_zeros[0], data01_zeros[1], \"x\")\n"
   ]
  },
  {
   "cell_type": "code",
   "execution_count": 58,
   "metadata": {
    "ExecuteTime": {
     "end_time": "2022-07-12T12:15:14.261837Z",
     "start_time": "2022-07-12T12:15:14.221944Z"
    }
   },
   "outputs": [],
   "source": [
    "def sigmoid(x):\n",
    "    return 1./(1.+np.e**(-x))\n",
    "\n",
    "def loss_diff(w, data_x, data_y, C=0.0):\n",
    "    w = np.array(w)\n",
    "    return np.dot(data_x, sigmoid(np.dot(data_x.T, w) ) - data_y) + C*w\n",
    "\n",
    "# i番目の勾配値を取得する\n",
    "def loss_igrad(w, i, data_x, data_y, C=0.0):\n",
    "    def loss_diff(w, data_x, data_y, C):\n",
    "        w = np.array(w)\n",
    "        return np.dot(data_x, sigmoid(np.dot(data_x.T, w) ) - data_y) + C*w\n",
    "    grad = loss_diff(w, data_x, data_y, C)\n",
    "    return grad[i]\n",
    "\n",
    "\n",
    "def logistic_loss(w, data_x, data_y, C=0.0):\n",
    "    w = np.array(w)\n",
    "    return -np.dot( np.dot(data_x.T, w).T, data_y) \\\n",
    "            + np.sum(np.log( 1. + np.e**(np.dot(data_x.T, w)))) \\\n",
    "            + 0.5*C*(np.linalg.norm(w))**2\n",
    "\n"
   ]
  },
  {
   "cell_type": "code",
   "execution_count": 122,
   "metadata": {
    "ExecuteTime": {
     "end_time": "2022-07-12T13:11:14.191880Z",
     "start_time": "2022-07-12T13:11:14.162954Z"
    }
   },
   "outputs": [],
   "source": [
    "# データの作成\n",
    "sample_x = np.array([data01_T[i][0] for i in range(len(data01_T))])\n",
    "sample_y = np.array([data01_T[i][1] for i in range(len(data01_T))])\n",
    "# Linear Logistic\n",
    "# X = np.array([[1,s] for s in sample_x]).T\n",
    "# X = np.array([[1,s,s**2] for s in sample_x]).T\n",
    "# print(X)\n",
    "# dim = len([w0,w1,..,wn]): dim=2: Linear\n",
    "def make_polynomial_X(data_x, dim=2):\n",
    "    X = []\n",
    "    for j in range(len(data_x)):\n",
    "        temp = []\n",
    "        for k in range(dim):\n",
    "            temp.append((data_x[j])**(k))\n",
    "        X.append(temp)\n",
    "    return np.array(X).T\n",
    "X = make_polynomial_X(data_x= sample_x, dim=2)"
   ]
  },
  {
   "cell_type": "code",
   "execution_count": 134,
   "metadata": {
    "ExecuteTime": {
     "end_time": "2022-07-12T13:18:30.197984Z",
     "start_time": "2022-07-12T13:18:28.846643Z"
    }
   },
   "outputs": [
    {
     "name": "stdout",
     "output_type": "stream",
     "text": [
      "z の更新が最大に達したので強制終了．今の値を返します\n",
      "[35]: z= [-1.32820737 -1.12626927], min f(z)= 30.356215005988762\n",
      "z の更新が最大に達したので強制終了．今の値を返します\n",
      "[7]: z= [ 4.31760704 -2.62414589], min f(z)= 9.70494733412993\n",
      "[112]: z= [-28.15033726 -12.75245215], min f(z)= 567.3997041909254\n",
      "z の更新が最大に達したので強制終了．今の値を返します\n",
      "[13]: z= [ 0.73935991 -1.05236657], min f(z)= 12.81068373258584\n",
      "[7]: z= [ 3.00251352 -1.99495395], min f(z)= 9.144652346096086\n",
      "[83]: z= [-19.4644312   -9.16108829], min f(z)= 372.17042280024305\n",
      "[15]: z= [-1.93047967 -1.31497785], min f(z)= 38.75084008997256\n",
      "[92]: z= [-23.56329483 -10.9111897 ], min f(z)= 462.024471947321\n",
      "[86]: z= [-4.84562077 -2.59306013], min f(z)= 86.3828447916282\n",
      "z の更新が最大に達したので強制終了．今の値を返します\n",
      "[13]: z= [ 6.83036317 -3.88691073], min f(z)= 13.1786834676182\n",
      "z の更新が最大に達したので強制終了．今の値を返します\n",
      "[5]: z= [ 5.73000506 -3.33497683], min f(z)= 11.346267211677834\n",
      "[75]: z= [-18.81201207  -8.87734407], min f(z)= 358.24712363169994\n",
      "z の更新が最大に達したので強制終了．今の値を返します\n",
      "[20]: z= [ 5.65462218 -3.27320406], min f(z)= 11.216865057936777\n",
      "[44]: z= [-3.34968996 -1.90440969], min f(z)= 61.02309731403158\n",
      "z の更新が最大に達したので強制終了．今の値を返します\n",
      "[31]: z= [-0.30265059 -0.93396887], min f(z)= 19.119112035448097\n",
      "[74]: z= [-13.35841193  -6.47126689], min f(z)= 245.97934318710114\n",
      "z の更新が最大に達したので強制終了．今の値を返します\n",
      "[3]: z= [-9.1559318  -2.22538871], min f(z)= 184.08322164296868\n",
      "z の更新が最大に達したので強制終了．今の値を返します\n",
      "[11]: z= [ 2.33555002 -1.70520924], min f(z)= 9.377063879271574\n",
      "z の更新が最大に達したので強制終了．今の値を返します\n",
      "[30]: z= [-0.03981834 -0.91510962], min f(z)= 17.108894554049034\n",
      "z の更新が最大に達したので強制終了．今の値を返します\n",
      "[5]: z= [ 4.64676913 -2.78859223], min f(z)= 10.005147785771669\n",
      "[70]: z= [-12.13869179  -5.92625295], min f(z)= 221.88976030523298\n",
      "z の更新が最大に達したので強制終了．今の値を返します\n",
      "[4]: z= [ 4.70856547 -2.78150725], min f(z)= 10.048769271848514\n",
      "[108]: z= [-26.46889648 -12.09825132], min f(z)= 528.187432768361\n",
      "[78]: z= [-17.48216648  -8.29577604], min f(z)= 330.19102181401985\n",
      "z の更新が最大に達したので強制終了．今の値を返します\n",
      "[9]: z= [ 3.07526046 -2.02644105], min f(z)= 9.143948632245037\n",
      "z の更新が最大に達したので強制終了．今の値を返します\n",
      "[2]: z= [-14.49248021  -4.56014255], min f(z)= 280.13668390202713\n",
      "[86]: z= [-4.83899429 -2.58997363], min f(z)= 86.26779263066156\n",
      "z の更新が最大に達したので強制終了．今の値を返します\n",
      "[5]: z= [ 5.73754142 -3.33131127], min f(z)= 11.3502979645138\n",
      "z の更新が最大に達したので強制終了．今の値を返します\n",
      "[10]: z= [ 8.35299366 -4.68727282], min f(z)= 16.44647889730821\n",
      "z の更新が最大に達したので強制終了．今の値を返します\n",
      "[23]: z= [ 1.89315807 -1.54493373], min f(z)= 9.80650174494067\n",
      "[82]: z= [-18.16128969  -8.5932534 ], min f(z)= 344.46423840738316\n",
      "z の更新が最大に達したので強制終了．今の値を返します\n",
      "[31]: z= [-0.78568244 -1.01156122], min f(z)= 23.80072926142359\n",
      "z の更新が最大に達したので強制終了．今の値を返します\n",
      "[1]: z= [-4.67330408 -1.84353815], min f(z)= 85.22692469546502\n",
      "[26]: z= [ 0.75239412 -1.17569743], min f(z)= 12.601088860684209\n",
      "[23]: z= [ 2.79752912 -1.90855825], min f(z)= 9.17051795115257\n",
      "[33]: z= [-8.87376326 -4.45291234], min f(z)= 159.3081822901945\n",
      "[131]: z= [-31.39376557 -13.92301542], min f(z)= 644.924431862088\n",
      "z の更新が最大に達したので強制終了．今の値を返します\n",
      "[10]: z= [-0.45374167 -0.94972188], min f(z)= 20.452254206500392\n",
      "[63]: z= [-6.82907866 -3.51520143], min f(z)= 121.61920214723084\n",
      "[62]: z= [-8.65598443 -4.35367538], min f(z)= 155.2359663230296\n",
      "[35]: z= [-5.88062256 -3.07533116], min f(z)= 104.58472214046401\n",
      "[46]: z= [-0.77139101 -1.02417696], min f(z)= 23.64285145461365\n",
      "z の更新が最大に達したので強制終了．今の値を返します\n",
      "[23]: z= [ 0.30273726 -0.93376135], min f(z)= 14.983940715852407\n",
      "[91]: z= [-13.4961277  -6.532666 ], min f(z)= 248.7229590920914\n",
      "z の更新が最大に達したので強制終了．今の値を返します\n",
      "[8]: z= [ 5.05011105 -2.93950068], min f(z)= 10.416265903632034\n",
      "[68]: z= [-12.26712479  -5.98375001], min f(z)= 224.40846326688788\n",
      "z の更新が最大に達したので強制終了．今の値を返します\n",
      "[8]: z= [ 2.70366572 -1.8690968 ], min f(z)= 9.194856119190554\n",
      "z の更新が最大に達したので強制終了．今の値を返します\n",
      "[5]: z= [11.68645876 -6.33512256], min f(z)= 25.893524152434043\n",
      "[72]: z= [-13.32762793  -6.45755854], min f(z)= 245.3667105697418\n",
      "z の更新が最大に達したので強制終了．今の値を返します\n",
      "[10]: z= [ 2.0850136  -1.58932124], min f(z)= 9.59564759152294\n",
      "[77]: z= [-17.71168258  -8.39643022], min f(z)= 335.00206549908046\n",
      "[34]: z= [-1.76013675 -1.25567502], min f(z)= 36.28492698786233\n",
      "z の更新が最大に達したので強制終了．今の値を返します\n",
      "[11]: z= [-0.27022211 -0.93245924], min f(z)= 18.847373971662748\n",
      "z の更新が最大に達したので強制終了．今の値を返します\n",
      "[1]: z= [-9.22856337 -3.05080353], min f(z)= 172.529682737474\n",
      "z の更新が最大に達したので強制終了．今の値を返します\n",
      "[21]: z= [ 3.60666365 -2.27682878], min f(z)= 9.261002072731955\n",
      "z の更新が最大に達したので強制終了．今の値を返します\n",
      "[9]: z= [ 0.95612269 -1.19442691], min f(z)= 11.87464797007355\n",
      "[69]: z= [-13.84931461  -6.68993943], min f(z)= 255.781133452264\n",
      "z の更新が最大に達したので強制終了．今の値を返します\n",
      "[27]: z= [ 2.12883821 -1.63458744], min f(z)= 9.54436592127499\n",
      "z の更新が最大に達したので強制終了．今の値を返します\n",
      "[2]: z= [-4.87387882 -1.24397845], min f(z)= 97.78753577664062\n",
      "z の更新が最大に達したので強制終了．今の値を返します\n",
      "[2]: z= [ 9.77761433 -5.18430457], min f(z)= 19.89001927147286\n",
      "[129]: z= [-30.86953077 -13.74200758], min f(z)= 632.2275588104218\n",
      "z の更新が最大に達したので強制終了．今の値を返します\n",
      "[4]: z= [ 9.3120842  -5.13266872], min f(z)= 18.793000397869655\n",
      "z の更新が最大に達したので強制終了．今の値を返します\n",
      "[24]: z= [ 1.53980456 -1.38584228], min f(z)= 10.375776951866426\n",
      "[65]: z= [-9.29191106 -4.64305069], min f(z)= 167.16401445555834\n",
      "z の更新が最大に達したので強制終了．今の値を返します\n",
      "[19]: z= [ 5.65887643 -3.20452045], min f(z)= 11.192364720453886\n",
      "z の更新が最大に達したので強制終了．今の値を返します\n",
      "[13]: z= [-1.01927309 -1.05550444], min f(z)= 26.479086871808075\n",
      "z の更新が最大に達したので強制終了．今の値を返します\n",
      "[2]: z= [-17.85161416  -7.92449173], min f(z)= 338.2825459190854\n",
      "z の更新が最大に達したので強制終了．今の値を返します\n",
      "[5]: z= [ 2.026648   -1.59498921], min f(z)= 9.648332494257097\n",
      "z の更新が最大に達したので強制終了．今の値を返します\n",
      "[25]: z= [ 0.59546731 -1.10472011], min f(z)= 13.276435131746476\n",
      "z の更新が最大に達したので強制終了．今の値を返します\n",
      "[13]: z= [ 7.35454707 -4.1683495 ], min f(z)= 14.224137088561847\n",
      "z の更新が最大に達したので強制終了．今の値を返します\n",
      "[4]: z= [-4.67057423 -1.43191665], min f(z)= 89.36965568024186\n",
      "[77]: z= [-18.58443731  -8.77808813], min f(z)= 353.41504095320647\n",
      "[104]: z= [-25.6235135  -11.75924443], min f(z)= 508.7277772129337\n",
      "z の更新が最大に達したので強制終了．今の値を返します\n",
      "[3]: z= [10.00945753 -5.5444789 ], min f(z)= 20.808036703710094\n",
      "z の更新が最大に達したので強制終了．今の値を返します\n",
      "[9]: z= [ 3.78129314 -2.34164777], min f(z)= 9.337911255077064\n",
      "z の更新が最大に達したので強制終了．今の値を返します\n",
      "[26]: z= [ 3.64359131 -2.28735395], min f(z)= 9.274886188819284\n",
      "[99]: z= [-24.44195905 -11.27626145], min f(z)= 481.8177244577969\n",
      "z の更新が最大に達したので強制終了．今の値を返します\n",
      "[26]: z= [ 1.30748338 -1.25701128], min f(z)= 10.93311412545035\n",
      "z の更新が最大に達したので強制終了．今の値を返します\n",
      "[2]: z= [-2.04233645 -0.78796896], min f(z)= 43.33530854328757\n",
      "z の更新が最大に達したので強制終了．今の値を返します\n",
      "[5]: z= [ 7.71388907 -4.33878174], min f(z)= 14.964837832204577\n",
      "z の更新が最大に達したので強制終了．今の値を返します\n",
      "[28]: z= [ 0.37619639 -0.95961185], min f(z)= 14.537896842382908\n",
      "[70]: z= [-12.57186987  -6.12009859], min f(z)= 230.40170002542078\n",
      "[97]: z= [-24.64279331 -11.35903564], min f(z)= 486.3680162034937\n",
      "z の更新が最大に達したので強制終了．今の値を返します\n",
      "[3]: z= [ 5.84072329 -3.3656806 ], min f(z)= 11.488386878078813\n",
      "z の更新が最大に達したので強制終了．今の値を返します\n",
      "[7]: z= [ 3.59605905 -2.27234275], min f(z)= 9.256868918149179\n",
      "z の更新が最大に達したので強制終了．今の値を返します\n",
      "[1]: z= [-5.30321343 -2.72691905], min f(z)= 94.3937448724549\n",
      "z の更新が最大に達したので強制終了．今の値を返します\n",
      "[5]: z= [10.5135258  -5.81638745], min f(z)= 22.31691136480294\n",
      "[58]: z= [-5.87656749 -3.07345208], min f(z)= 104.51257574548526\n",
      "[15]: z= [-2.96128868 -1.73234924], min f(z)= 54.69608162076743\n",
      "[28]: z= [-4.28299302 -2.33144883], min f(z)= 76.69132377098296\n",
      "z の更新が最大に達したので強制終了．今の値を返します\n",
      "[21]: z= [ 5.91183157 -3.32623751], min f(z)= 11.560661305886914\n",
      "z の更新が最大に達したので強制終了．今の値を返します\n",
      "[4]: z= [ 4.22918915 -2.57498314], min f(z)= 9.6313977387636\n",
      "[73]: z= [-14.86865121  -7.14277072], min f(z)= 276.3276343058528\n",
      "[31]: z= [-1.68478972 -1.23082154], min f(z)= 35.215021220352426\n",
      "z の更新が最大に達したので強制終了．今の値を返します\n",
      "[10]: z= [ 2.6293965  -1.83808694], min f(z)= 9.220035955521677\n",
      "[59]: z= [-7.02172495 -3.60417341], min f(z)= 125.1160605571206\n",
      "z の更新が最大に達したので強制終了．今の値を返します\n",
      "[7]: z= [ 5.95785404 -3.34984714], min f(z)= 11.630533215180606\n",
      "z の更新が最大に達したので強制終了．今の値を返します\n",
      "[27]: z= [ 2.05155716 -1.60419989], min f(z)= 9.621691446291242\n",
      "[68]: z= [-10.14089089  -5.02761397], min f(z)= 183.26053871844215\n",
      "z の更新が最大に達したので強制終了．今の値を返します\n",
      "[4]: z= [ 8.47501244 -4.75291503], min f(z)= 16.743278021481142\n",
      "[100]回でw*= [ 3.07526046 -2.02644105], f(w*) = 9.143948632245037\n"
     ]
    }
   ],
   "source": [
    "# とりあえずtemp_fが計算できるものを初期値にしておく\n",
    "temp_w = [1.0,1.0]\n",
    "# temp_w = [1.0, 1.0, 1.0]\n",
    "# 初期値の設定\n",
    "dim = len(temp_w)\n",
    "search_count=100\n",
    "w_range = (-10, 10)\n",
    "L2_c = 0.2\n",
    "\n",
    "# 探索準備\n",
    "temp_f = data02_Loss(temp_w)\n",
    "loss_grad = [lambda w: loss_igrad(w, i=j, data_x=X, data_y=sample_y, C=L2_c) for j in range(dim)]\n",
    "data02_Loss = lambda w: logistic_loss(w, data_x=X, data_y=sample_y, C=L2_c)\n",
    "# 探索開始\n",
    "for i in range(search_count):\n",
    "    init_w = np.random.uniform(w_range[0], w_range[1],dim)\n",
    "    w_new = multi_grad_descent(func_=data02_Loss, dfunc_=loss_grad, init_z=init_w, accuracy=10e-4, step=0.1, MAX_LOOP=1000, debug=False)\n",
    "    if temp_f > w_new[1]:\n",
    "        temp_f = w_new[1]\n",
    "        temp_w = w_new[0]\n",
    "# 結果をplotする\n",
    "print(\"[{}]回でw*= {}, f(w*) = {}\".format(search_count, temp_w, temp_f))\n"
   ]
  },
  {
   "cell_type": "code",
   "execution_count": 135,
   "metadata": {
    "ExecuteTime": {
     "end_time": "2022-07-12T13:18:41.111955Z",
     "start_time": "2022-07-12T13:18:40.911465Z"
    }
   },
   "outputs": [
    {
     "name": "stdout",
     "output_type": "stream",
     "text": [
      "[100]回でw*= [ 3.07526046 -2.02644105], f(w*) = 9.143948632245037\n"
     ]
    },
    {
     "data": {
      "text/plain": [
       "[<matplotlib.lines.Line2D at 0x1d2d0d75390>]"
      ]
     },
     "execution_count": 135,
     "metadata": {},
     "output_type": "execute_result"
    },
    {
     "data": {
      "image/png": "[encoded data removed]",
      "text/plain": [
       "<matplotlib.figure.Figure at 0x1d2ceb5cac8>"
      ]
     },
     "metadata": {},
     "output_type": "display_data"
    }
   ],
   "source": [
    "# 結果の表示\n",
    "print(\"[{}]回でw*= {}, f(w*) = {}\".format(search_count, temp_w, temp_f))\n",
    "\n",
    "plot_testx = np.linspace(-5.,5., 1000)\n",
    "# ここだけまだ次元の対応できてない\n",
    "if len(temp_w) == 2:\n",
    "    plot_testy = [sigmoid(temp_w[0]+ temp_w[1]*i) for i in plot_testx]\n",
    "elif len(temp_w) == 3:\n",
    "    plot_testy = [sigmoid(temp_w[0]+ temp_w[1]*i + temp_w[2]*(i)**2) for i in plot_testx]\n",
    "plt.plot(plot_testx, plot_testy)\n",
    "plt.plot(data01_ones[0], data01_ones[1], \"o\")\n",
    "plt.plot(data01_zeros[0], data01_zeros[1], \"x\")\n"
   ]
  },
  {
   "cell_type": "markdown",
   "metadata": {
    "ExecuteTime": {
     "end_time": "2022-07-12T12:11:06.769673Z",
     "start_time": "2022-07-12T12:11:06.751717Z"
    }
   },
   "source": [
    "<img src=\"./data02_C0.png\">\n",
    "<img src=\"./data02_C1.png\">\n",
    "<img src=\"./data01_C0.png\">\n",
    "<img src=\"./data01_C02.png\">"
   ]
  },
  {
   "cell_type": "code",
   "execution_count": 157,
   "metadata": {
    "ExecuteTime": {
     "end_time": "2022-07-12T13:34:07.082362Z",
     "start_time": "2022-07-12T13:34:07.001370Z"
    }
   },
   "outputs": [],
   "source": [
    "data01_c0_w = [ 5.87497504, -3.36925775]\n",
    "data01_c02_w = [ 3.07526046, -2.02644105]\n",
    "data01_c1_sk = [3.01337918, -1.90024688]\n",
    "c0_w = [ 3.87559334, -8.84982156, -11.2037395]\n",
    "c1_w = [ 1.78876831, -2.53053623, -3.09611265]\n",
    "\n",
    "test02 = open_csv_to_float(\"./Logistic_test01.csv\")\n",
    "test02_x = test02[0]\n",
    "test02_y = test02[1]\n",
    "def judge_Logit(w, data_x, data_y):\n",
    "    def sigmoid(x):\n",
    "        return 1./(1.+np.e**(-x))\n",
    "    def threshold(x, theta):\n",
    "        if x >= theta:\n",
    "            return 1\n",
    "        else:\n",
    "            return 0\n",
    "    # (data_x.T)@wを作成\n",
    "    w = np.array(w)\n",
    "    w_dim = len(w)\n",
    "    sample_num = len(data_y)\n",
    "    X = []\n",
    "    for j in range(sample_num):\n",
    "        temp = []\n",
    "        for k in range(w_dim):\n",
    "            temp.append(w[k]*(data_x[j])**(k))\n",
    "        X.append(sum(temp))\n",
    "    X = np.array(X)\n",
    "    pred_list = np.array([threshold(s, theta=0.5) for s in sigmoid(X)])\n",
    "    accuracy = 1. - sum(abs(pred_list - data_y))/sample_num\n",
    "    return accuracy\n"
   ]
  },
  {
   "cell_type": "code",
   "execution_count": 156,
   "metadata": {
    "ExecuteTime": {
     "end_time": "2022-07-12T13:33:24.958954Z",
     "start_time": "2022-07-12T13:33:24.945989Z"
    }
   },
   "outputs": [
    {
     "name": "stdout",
     "output_type": "stream",
     "text": [
      "[[-1.90024688]] [3.01337918]\n"
     ]
    }
   ],
   "source": [
    "from sklearn.linear_model import LogisticRegression\n",
    "lr = LogisticRegression( random_state=42, solver='newton-cg')\n",
    "result = lr.fit(np.array(data01[0]).reshape(-1, 1), data01[1])\n",
    "print(lr.coef_, lr.intercept_) # [3.01337918, -1.90024688]"
   ]
  },
  {
   "cell_type": "code",
   "execution_count": 158,
   "metadata": {
    "ExecuteTime": {
     "end_time": "2022-07-12T13:35:09.156082Z",
     "start_time": "2022-07-12T13:35:09.141127Z"
    }
   },
   "outputs": [
    {
     "name": "stdout",
     "output_type": "stream",
     "text": [
      "[data01] c=0: accuracy: 0.96\n",
      "[data01] c=0.2: accuracy: 0.92\n",
      "[data01] sk-newton-cg,default accuracy: 0.94\n"
     ]
    }
   ],
   "source": [
    "# data01\n",
    "print(\"[data01] c=0: accuracy: {}\".format(judge_Logit(data01_c0_w, test02_x, test02_y)))\n",
    "print(\"[data01] c=0.2: accuracy: {}\".format(judge_Logit(data01_c02_w, test02_x, test02_y)))\n",
    "print(\"[data01] sk-newton-cg,default accuracy: {}\".format(judge_Logit(data01_c1_sk, test02_x, test02_y)))"
   ]
  },
  {
   "cell_type": "code",
   "execution_count": 144,
   "metadata": {
    "ExecuteTime": {
     "end_time": "2022-07-12T13:21:35.304551Z",
     "start_time": "2022-07-12T13:21:35.287588Z"
    }
   },
   "outputs": [
    {
     "name": "stdout",
     "output_type": "stream",
     "text": [
      "[data02] c=0: accuracy: 0.98\n",
      "[data02] c=1: accuracy: 0.95\n"
     ]
    }
   ],
   "source": [
    "# data02\n",
    "print(\"[data02] c=0: accuracy: {}\".format(judge_Logit(c0_w, test02_x, test02_y)))\n",
    "print(\"[data02] c=1: accuracy: {}\".format(judge_Logit(c1_w, test02_x, test02_y)))"
   ]
  },
  {
   "cell_type": "code",
   "execution_count": 217,
   "metadata": {
    "ExecuteTime": {
     "end_time": "2022-07-12T14:04:25.974062Z",
     "start_time": "2022-07-12T14:04:25.924196Z"
    }
   },
   "outputs": [],
   "source": [
    "# 次の展望：Xが多次元線形の場合（多次元非線形はもういいや）\n",
    "# データ作成\n",
    "# x_zeros = 100\n",
    "# x_ones = 100\n",
    "# zeros_x_list = np.sort(np.random.multivariate_normal((2.,3.), ((2.,0.),(0, 2.)), x_zeros)).tolist()\n",
    "# # print(zeros_x_list)\n",
    "# ones_x_list = np.sort(np.random.multivariate_normal((-1.,1.), ((2.,-1.),(-1., 2.)), x_ones)).tolist()\n",
    "# # print(ones_x_list)\n",
    "# zeros_y_list = [0 for i in range(x_zeros)]\n",
    "# ones_y_list = [1 for i in range(x_ones)]\n",
    "# x_list = np.array(zeros_x_list + ones_x_list).T\n",
    "# y_list = np.array(zeros_y_list + ones_y_list)\n",
    "# def data_to_csv3(x0_list, x1_list, y_list, name=\"data\", encoding=\"cp932\"):\n",
    "#     values = np.array([x0_list, x1_list, y_list]).T\n",
    "#     num_list = range(1, len(y_list)+1)\n",
    "#     column_list = [\"x0\", \"x1\", \"y\"]\n",
    "#     result_pd = pd.DataFrame(data=values, index=num_list, columns=column_list)\n",
    "#     result_pd.to_csv(name+\".csv\", encoding='cp932')\n",
    "\n",
    "# data_to_csv3(x_list[0], x_list[1], y_list, name=\"Logistic_test03\", encoding=\"cp932\")\n"
   ]
  },
  {
   "cell_type": "code",
   "execution_count": 219,
   "metadata": {
    "ExecuteTime": {
     "end_time": "2022-07-12T14:05:18.477254Z",
     "start_time": "2022-07-12T14:05:18.192017Z"
    }
   },
   "outputs": [
    {
     "data": {
      "text/plain": [
       "[<matplotlib.lines.Line2D at 0x1d2d27481d0>]"
      ]
     },
     "execution_count": 219,
     "metadata": {},
     "output_type": "execute_result"
    },
    {
     "data": {
      "image/png": "[encoded data removed]",
      "text/plain": [
       "<matplotlib.figure.Figure at 0x1d2d2711a58>"
      ]
     },
     "metadata": {},
     "output_type": "display_data"
    }
   ],
   "source": [
    "# 明日これ境界線を引く．\n",
    "\n",
    "data03 = open_csv_to_float(\"./Logistic_data03.csv\")\n",
    "data03_T = data03.T\n",
    "data03_ones = np.array([[data03_T[i][0],data03_T[i][1]] for i in range(len(data03_T)) if data03_T[i][2] == 1.]).T\n",
    "data03_zeros = np.array([[data03_T[i][0],data03_T[i][1]]for i in range(len(data03_T)) if data03_T[i][2] == 0.]).T\n",
    "plt.plot(data03_ones[0], data03_ones[1], \"o\")\n",
    "plt.plot(data03_zeros[0], data03_zeros[1], \"x\")\n",
    "\n",
    "data03 = open_csv_to_float(\"./Logistic_test03.csv\")\n",
    "data03_T = data03.T\n",
    "data03_ones = np.array([[data03_T[i][0],data03_T[i][1]] for i in range(len(data03_T)) if data03_T[i][2] == 1.]).T\n",
    "data03_zeros = np.array([[data03_T[i][0],data03_T[i][1]]for i in range(len(data03_T)) if data03_T[i][2] == 0.]).T\n",
    "plt.plot(data03_ones[0], data03_ones[1], \"o\")\n",
    "plt.plot(data03_zeros[0], data03_zeros[1], \"x\")"
   ]
  },
  {
   "cell_type": "code",
   "execution_count": null,
   "metadata": {},
   "outputs": [],
   "source": [
    "1. data01に対して，最尤推定を用いてLogit曲線を生成せよ．\n",
    "2. test01に対して，上のLogitを用いて分類精度を評価せよ．\n",
    "3. data01に対して，C=0.2のL2正則化項を加えてLogit曲線を生成せよ．\n",
    "    i.e. 尤度関数に，(C/2)*(||w||)^2 を加えて argmax for w をすることである．\n",
    "-- advance issue 1 --\n",
    "4. data02に対して，分類精度の出せるLogit曲線を生成せよ．\n",
    "5. test02に対して，上のLogitを用いて分類精度を評価せよ．(私が生成したものは96%の正解率でした．)\n",
    "-- advance issue 2 --\n",
    "<data03 は，data01に対して，入力変数が２個になりました．>\n",
    "6. data03に対して，分類精度の出せるLogit曲線を生成せよ．\n",
    "7. test03に対して，上のLogitを用いて分類精度を評価せよ．(私が生成したものは96%の正解率でした．)"
   ]
  }
 ],
 "metadata": {
  "kernelspec": {
   "display_name": "Python 3",
   "language": "python",
   "name": "python3"
  },
  "language_info": {
   "codemirror_mode": {
    "name": "ipython",
    "version": 3
   },
   "file_extension": ".py",
   "mimetype": "text/x-python",
   "name": "python",
   "nbconvert_exporter": "python",
   "pygments_lexer": "ipython3",
   "version": "3.6.4"
  },
  "latex_envs": {
   "LaTeX_envs_menu_present": true,
   "autoclose": false,
   "autocomplete": true,
   "bibliofile": "biblio.bib",
   "cite_by": "apalike",
   "current_citInitial": 1,
   "eqLabelWithNumbers": true,
   "eqNumInitial": 1,
   "hotkeys": {
    "equation": "Ctrl-E",
    "itemize": "Ctrl-I"
   },
   "labels_anchors": false,
   "latex_user_defs": false,
   "report_style_numbering": false,
   "user_envs_cfg": false
  },
  "toc": {
   "base_numbering": 1,
   "nav_menu": {},
   "number_sections": true,
   "sideBar": true,
   "skip_h1_title": false,
   "title_cell": "Table of Contents",
   "title_sidebar": "Contents",
   "toc_cell": false,
   "toc_position": {},
   "toc_section_display": true,
   "toc_window_display": false
  }
 },
 "nbformat": 4,
 "nbformat_minor": 2
}
